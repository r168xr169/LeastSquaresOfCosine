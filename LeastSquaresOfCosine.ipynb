{
  "nbformat": 4,
  "nbformat_minor": 0,
  "metadata": {
    "colab": {
      "name": "LeastSquaresOfCosine.ipynb",
      "version": "0.3.2",
      "provenance": []
    }
  },
  "cells": [
    {
      "metadata": {
        "id": "4AUvabVlkcn1",
        "colab_type": "text"
      },
      "cell_type": "markdown",
      "source": [
        "# cos関数の線形最小二乗法\n"
      ]
    },
    {
      "metadata": {
        "id": "JBrmpwijkZtN",
        "colab_type": "toc"
      },
      "cell_type": "markdown",
      "source": [
        ">[ライブラリのインポート](#scrollTo=TdfKtizdgqUv)\n",
        "\n",
        ">[テスト用データの生成](#scrollTo=FYtmg8PGgxFl)\n",
        "\n",
        ">[Ax = BのAとBを作成](#scrollTo=p1YdeWbag57T)\n",
        "\n",
        ">[x = A^-1 Bを計算](#scrollTo=GSu3lI_0hCgN)\n",
        "\n"
      ]
    },
    {
      "metadata": {
        "id": "TdfKtizdgqUv",
        "colab_type": "text"
      },
      "cell_type": "markdown",
      "source": [
        "#ライブラリのインポート\n"
      ]
    },
    {
      "metadata": {
        "id": "Plyl1Lxq6j15",
        "colab_type": "code",
        "colab": {}
      },
      "cell_type": "code",
      "source": [
        "import numpy as np\n",
        "import numpy as np\n",
        "import matplotlib.pyplot as plt"
      ],
      "execution_count": 0,
      "outputs": []
    },
    {
      "metadata": {
        "id": "DwkQG_0I54Vr",
        "colab_type": "code",
        "colab": {}
      },
      "cell_type": "code",
      "source": [
        "x = np.arange(0.0, 10.0, 0.01)\n",
        "x_ = np.array([1.0, 2.3, 4,5, 6.7, 8.9])"
      ],
      "execution_count": 0,
      "outputs": []
    },
    {
      "metadata": {
        "id": "FYtmg8PGgxFl",
        "colab_type": "text"
      },
      "cell_type": "markdown",
      "source": [
        "#テスト用データの生成"
      ]
    },
    {
      "metadata": {
        "id": "Kx5ntUJP6zDk",
        "colab_type": "code",
        "colab": {}
      },
      "cell_type": "code",
      "source": [
        "y = np.cos(x)+3\n",
        "y_ = np.cos(x_) + 3 + np.random.normal(0.0, 0.2, len(x_))"
      ],
      "execution_count": 0,
      "outputs": []
    },
    {
      "metadata": {
        "id": "kwzLEFbf61xU",
        "colab_type": "code",
        "colab": {}
      },
      "cell_type": "code",
      "source": [
        "plt.plot(x_,y_)\n",
        "plt.plot(x, y)"
      ],
      "execution_count": 0,
      "outputs": []
    },
    {
      "metadata": {
        "id": "p1YdeWbag57T",
        "colab_type": "text"
      },
      "cell_type": "markdown",
      "source": [
        "#Ax = BのAとBを作成"
      ]
    },
    {
      "metadata": {
        "id": "41kL1bYR676S",
        "colab_type": "code",
        "colab": {}
      },
      "cell_type": "code",
      "source": [
        "A = np.zeros((3,3))\n",
        "B = np.zeros((3,1))\n",
        "for i in range(len(x_)):\n",
        "  cos_x = np.cos(x_[i])\n",
        "  sin_x = np.sin(x_[i])\n",
        "  cos_x2 = cos_x*cos_x\n",
        "  sin_x2 = sin_x*sin_x\n",
        "  cos_sin_x = cos_x*sin_x\n",
        "  A += np.array([\n",
        "       [ cos_x2,    -cos_sin_x, cos_x],\n",
        "       [ cos_sin_x, -sin_x2,    sin_x],\n",
        "       [ cos_x,     -sin_x,     1]])\n",
        "  B += np.array([\n",
        "      [y_[i]*cos_x],\n",
        "      [y_[i]*sin_x],\n",
        "      [y_[i]]\n",
        "  ])"
      ],
      "execution_count": 0,
      "outputs": []
    },
    {
      "metadata": {
        "id": "GSu3lI_0hCgN",
        "colab_type": "text"
      },
      "cell_type": "markdown",
      "source": [
        "#x = A^-1 Bを計算"
      ]
    },
    {
      "metadata": {
        "id": "JgdYc-2fT5Ka",
        "colab_type": "code",
        "colab": {}
      },
      "cell_type": "code",
      "source": [
        "# x = A^{-1}b\n",
        "abc=np.linalg.inv(A).dot(B)\n",
        "a = np.sqrt(abc[0]*abc[0] + abc[1]*abc[1])\n",
        "b = np.arctan2(abc[1], abc[0])\n",
        "c = abc[2]"
      ],
      "execution_count": 0,
      "outputs": []
    },
    {
      "metadata": {
        "id": "QA-ANpu7XjG-",
        "colab_type": "code",
        "colab": {}
      },
      "cell_type": "code",
      "source": [
        "y__ = a*np.cos(x + b) + c\n",
        "plt.plot(x_,y_)\n",
        "plt.plot(x, y)\n",
        "plt.plot(x, y__)"
      ],
      "execution_count": 0,
      "outputs": []
    }
  ]
}